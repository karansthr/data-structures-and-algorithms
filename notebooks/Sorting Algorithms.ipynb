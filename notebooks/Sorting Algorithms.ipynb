{
 "cells": [
  {
   "cell_type": "markdown",
   "metadata": {},
   "source": [
    "# Bubble Sort"
   ]
  },
  {
   "cell_type": "code",
   "execution_count": 1,
   "metadata": {},
   "outputs": [
    {
     "name": "stdout",
     "output_type": "stream",
     "text": [
      "Enter space seperated numbers:4 3 2 1\n",
      "After sorting\n",
      "1 2 3 4\n"
     ]
    }
   ],
   "source": [
    "def bubble_sort(arr):\n",
    "    '''\n",
    "    PROCEDURE BUBBLESORT(A):\n",
    "    for i = 1 to A.length-1\n",
    "        for j = A.length downto i+1\n",
    "            if A[j] < A[j-1]\n",
    "                exchange A[j] and A[j+1]\n",
    "    '''\n",
    "\n",
    "    for i in range(0, len(arr) - 1):\n",
    "        for j in range(len(arr) - 1, i, -1):\n",
    "            if arr[j] < arr[j - 1]:\n",
    "                arr[j], arr[j - 1] = arr[j - 1], arr[j]\n",
    "    return arr\n",
    "\n",
    "\n",
    "if __name__ == '__main__':\n",
    "    arr = list(map(int, input('Enter space seperated numbers:').split()))\n",
    "    arr = bubble_sort(arr)\n",
    "    print('After sorting')\n",
    "    print(*arr)\n"
   ]
  },
  {
   "cell_type": "markdown",
   "metadata": {},
   "source": [
    "# Selection Sort"
   ]
  },
  {
   "cell_type": "code",
   "execution_count": 3,
   "metadata": {},
   "outputs": [
    {
     "name": "stdout",
     "output_type": "stream",
     "text": [
      "Enter space seperated numbers:1 2 3 4 5 \n",
      "Enter number of elements to be sorted, default = all\n",
      "After sorting\n",
      "1 2 3 4 5\n"
     ]
    }
   ],
   "source": [
    "def selection_sort(arr, n=None):\n",
    "    '''\n",
    "        Procedure SELECTION-SORT(A, n):\n",
    "        Inputs:\n",
    "        A: an array.\n",
    "        n: the number of elements in A to sort.\n",
    "        Result: The elements of A are sorted into nondecreasing order.\n",
    "\n",
    "        1. For i = 1 to n - 1:\n",
    "            A.  Set smallest to i\n",
    "            B.  For j = i+1 to n:\n",
    "                    if A[j] < A[smallest], then set smallest to j.\n",
    "            C.  Swap A[i] with A[smallest]\n",
    "\n",
    "        Complexity:\n",
    "        (n-1)+(n-2) + .. . + 1 = n(n+1)/2\n",
    "        => O(n^2)\n",
    "    '''\n",
    "    array_length = len(arr) if n is None else n\n",
    "\n",
    "    for i in range(array_length - 1):\n",
    "        smallest = i\n",
    "        for j in range(i + 1, array_length):\n",
    "            if arr[j] < arr[smallest]:\n",
    "                smallest = j\n",
    "        arr[i], arr[smallest] = arr[smallest], arr[i]\n",
    "    return arr\n",
    "\n",
    "\n",
    "if __name__ == '__main__':\n",
    "    arr = list(map(int, input('Enter space seperated numbers:').split()))\n",
    "    n = input('Enter number of elements to be sorted, default = all')\n",
    "    n = None if n == '' else int(n)\n",
    "    arr = selection_sort(arr, n)\n",
    "    print('After sorting')\n",
    "    print(*arr)\n"
   ]
  },
  {
   "cell_type": "markdown",
   "metadata": {},
   "source": [
    "# Insertion Sort"
   ]
  },
  {
   "cell_type": "code",
   "execution_count": 4,
   "metadata": {},
   "outputs": [
    {
     "name": "stdout",
     "output_type": "stream",
     "text": [
      "Enter space seperated numbers:9 8 7 6 5 4 3 2 1\n",
      "Enter number of elements to be sorted, default = all\n",
      "After sorting\n",
      "1 2 3 4 5 6 7 8 9\n"
     ]
    }
   ],
   "source": [
    "def insertion_sort(arr, n=None):\n",
    "    '''\n",
    "    Procedure INSERTION -SORT (A, n)\n",
    "    Inputs:\n",
    "        A: array to be sorted\n",
    "        n: number of elements to be sorted\n",
    "\n",
    "    1. For i = 2 to n:\n",
    "    A. Set key to A[i], and set j to i - 1.\n",
    "    B. While j > 0 and A[j] > key, do the following:\n",
    "        1.  Set A[j + 1] to A[j].\n",
    "        2.  Decrement j\n",
    "    C. Set A[j + 1] to key.\n",
    "    '''\n",
    "    array_length = len(arr) if n is None else n\n",
    "    for i in range(1, array_length):\n",
    "        key = arr[i]\n",
    "        j = i - 1\n",
    "        while j >= 0 and key < arr[j]:\n",
    "            arr[j+1] = arr[j]\n",
    "            j = j - 1\n",
    "        arr[j+1] = key\n",
    "    return arr\n",
    "\n",
    "\n",
    "if __name__ == '__main__':\n",
    "    arr = list(map(int, input('Enter space seperated numbers:').split()))\n",
    "    n = input('Enter number of elements to be sorted, default = all')\n",
    "    n = None if n == '' else int(n)\n",
    "    arr = insertion_sort(arr, n)\n",
    "    print('After sorting')\n",
    "    print(*arr)\n"
   ]
  },
  {
   "cell_type": "markdown",
   "metadata": {},
   "source": [
    "# Merge Sort"
   ]
  },
  {
   "cell_type": "code",
   "execution_count": 5,
   "metadata": {},
   "outputs": [
    {
     "name": "stdout",
     "output_type": "stream",
     "text": [
      "Enter space seperated numbers6 5 4 3 2 1\n",
      "After sorting\n",
      "1 2 3 4 5 6\n"
     ]
    }
   ],
   "source": [
    "def merge(arr, start, middle, end):\n",
    "    # merge two array\n",
    "    # first : arr [ start to middle ]\n",
    "    # second : arr [ middle + 1 to end ]\n",
    "\n",
    "    A = arr[start:middle + 1]\n",
    "    B = arr[middle + 1:end + 1]\n",
    "\n",
    "    i = j = 0\n",
    "    for k in range(start, end + 1):\n",
    "        if i <= middle-start and j <= end-middle-1:\n",
    "            if A[i] <= B[j]:\n",
    "                arr[k] = A[i]\n",
    "                i = i + 1\n",
    "            else:\n",
    "                arr[k] = B[j]\n",
    "                j = j + 1\n",
    "        else:\n",
    "            if i > middle:\n",
    "                arr[k] = B[j]\n",
    "                j = j + 1\n",
    "            else:\n",
    "                arr[k] = A[i]\n",
    "                i = i + 1\n",
    "    return arr\n",
    "\n",
    "\n",
    "def mergesort(arr, start, end):\n",
    "    if start >= end:\n",
    "        # in this case the sublist has atmost one element\n",
    "        # so return it is already sorted. Just return it without doing anything\n",
    "        return arr\n",
    "\n",
    "    middle = (start + end) // 2\n",
    "    # recursively called mergesort on two halves of list/sublist\n",
    "    arr = mergesort(arr, start, middle)\n",
    "    arr = mergesort(arr, middle + 1, end)\n",
    "    return merge(arr, start, middle, end)\n",
    "\n",
    "\n",
    "if __name__ == '__main__':\n",
    "    arr = list(map(int, input('Enter space seperated numbers').split()))\n",
    "    arr = mergesort(arr, 0, len(arr) - 1)\n",
    "    print('After sorting')\n",
    "    print(*arr)\n"
   ]
  },
  {
   "cell_type": "code",
   "execution_count": null,
   "metadata": {
    "collapsed": true
   },
   "outputs": [],
   "source": []
  }
 ],
 "metadata": {
  "kernelspec": {
   "display_name": "Python 3",
   "language": "python",
   "name": "python3"
  },
  "language_info": {
   "codemirror_mode": {
    "name": "ipython",
    "version": 3
   },
   "file_extension": ".py",
   "mimetype": "text/x-python",
   "name": "python",
   "nbconvert_exporter": "python",
   "pygments_lexer": "ipython3",
   "version": "3.6.4"
  }
 },
 "nbformat": 4,
 "nbformat_minor": 2
}
