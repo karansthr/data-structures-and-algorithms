{
 "cells": [
  {
   "cell_type": "markdown",
   "metadata": {},
   "source": [
    "# Linear Search"
   ]
  },
  {
   "cell_type": "code",
   "execution_count": 1,
   "metadata": {},
   "outputs": [
    {
     "name": "stdout",
     "output_type": "stream",
     "text": [
      "Enter space seperated numbers : 1 5 8 12 44 60 98 110\n",
      "Enter number to search : 3\n",
      "Number not found !\n"
     ]
    }
   ],
   "source": [
    "def search(arr, key):\n",
    "    for i in range(len(arr)):\n",
    "        if arr[i] == key:\n",
    "            return i\n",
    "    return -1\n",
    "\n",
    "\n",
    "if __name__ == '__main__':\n",
    "    arr = list(map(int, input('Enter space seperated numbers : ').split()))\n",
    "    n = search(arr, int(input('Enter number to search : ')))\n",
    "    if n >= 0:\n",
    "        print(\"Number found at index\",n)\n",
    "    else:\n",
    "        print(\"Number not found !\")\n"
   ]
  },
  {
   "cell_type": "markdown",
   "metadata": {},
   "source": [
    "# Binary Search"
   ]
  },
  {
   "cell_type": "code",
   "execution_count": null,
   "metadata": {},
   "outputs": [],
   "source": [
    "def search(arr, key):\n",
    "    start, end = 0, len(arr) - 1\n",
    "    while (True):\n",
    "        middle = (start + end) // 2\n",
    "        if key == arr[middle]:\n",
    "            return middle\n",
    "        elif key > arr[middle]:\n",
    "            start = middle + 1\n",
    "        else:\n",
    "            end = middle - 1\n",
    "\n",
    "        if start >= end:\n",
    "            return -1  # -1 should be interpreted as not found by calling\n",
    "            # function\n",
    "\n",
    "\n",
    "if __name__ == '__main__':\n",
    "    arr = list(map(int, input('Enter space seperated numbers').split()))\n",
    "    n = search(arr, int(input('Enter number to search')))\n",
    "    if n >= 0:\n",
    "        print(\"Key found at index\", n)\n",
    "    else:\n",
    "        print(\"Key not found\")\n"
   ]
  },
  {
   "cell_type": "markdown",
   "metadata": {},
   "source": [
    "# Binary Search (recursive)"
   ]
  },
  {
   "cell_type": "code",
   "execution_count": null,
   "metadata": {
    "collapsed": true
   },
   "outputs": [],
   "source": [
    "def search(arr, key, start=None, end=None):\n",
    "    if start is end is None:\n",
    "        start, end = 0, len(arr)-1\n",
    "    if start >= end:\n",
    "        return -1\n",
    "    middle = (start + end) // 2\n",
    "    if key == arr[middle]:\n",
    "        return middle\n",
    "    elif key > arr[middle]:\n",
    "        return search(arr, key, middle + 1, end)\n",
    "    else:\n",
    "        return search(arr, key, start, middle - 1)\n",
    "\n",
    "\n",
    "if __name__ == '__main__':\n",
    "    arr = list(map(int, input('Enter space seperated numbers : ').split()))\n",
    "    n = search(arr, int(input('Enter number to search : ')))\n",
    "    if n >= 0:\n",
    "        print(\"Key found at index\", n)\n",
    "    else:\n",
    "        print(\"Key not found\")\n"
   ]
  }
 ],
 "metadata": {
  "kernelspec": {
   "display_name": "Python 3",
   "language": "python",
   "name": "python3"
  },
  "language_info": {
   "codemirror_mode": {
    "name": "ipython",
    "version": 3
   },
   "file_extension": ".py",
   "mimetype": "text/x-python",
   "name": "python",
   "nbconvert_exporter": "python",
   "pygments_lexer": "ipython3",
   "version": "3.6.4"
  }
 },
 "nbformat": 4,
 "nbformat_minor": 2
}
